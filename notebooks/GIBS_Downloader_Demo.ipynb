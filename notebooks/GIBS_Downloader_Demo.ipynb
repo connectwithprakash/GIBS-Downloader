{
  "nbformat": 4,
  "nbformat_minor": 0,
  "metadata": {
    "colab": {
      "name": "GIBS-Downloader-Demo.ipynb",
      "provenance": [],
      "collapsed_sections": [],
      "authorship_tag": "ABX9TyOclu08bGUI1LQTb6rId/pi",
      "include_colab_link": true
    },
    "kernelspec": {
      "name": "python3",
      "display_name": "Python 3"
    },
    "language_info": {
      "name": "python"
    }
  },
  "cells": [
    {
      "cell_type": "markdown",
      "metadata": {
        "id": "view-in-github",
        "colab_type": "text"
      },
      "source": [
        "<a href=\"https://colab.research.google.com/github/spaceml-org/GIBS-Downloader/blob/fernando%2Ftiling-speedup/notebooks/GIBS_Downloader_Demo.ipynb\" target=\"_parent\"><img src=\"https://colab.research.google.com/assets/colab-badge.svg\" alt=\"Open In Colab\"/></a>"
      ]
    },
    {
      "cell_type": "markdown",
      "metadata": {
        "id": "SmPVLgATQCx0"
      },
      "source": [
        "# GIBS Downloader Demo"
      ]
    },
    {
      "cell_type": "markdown",
      "metadata": {
        "id": "DPIk2DKJ6zYs"
      },
      "source": [
        "### Installing GIBS Downloader\n",
        "\n",
        "We first need to install GDAL. To do that, we first install Miniconda."
      ]
    },
    {
      "cell_type": "code",
      "metadata": {
        "colab": {
          "base_uri": "https://localhost:8080/"
        },
        "id": "6GOE_owRfF0K",
        "outputId": "5fb4e745-5eae-4ae6-8047-ee98b7b0bb8c"
      },
      "source": [
        "# This cell installs Miniconda. It will restart the kernel, don't worry\n",
        "!pip install -q condacolab\n",
        "import condacolab\n",
        "condacolab.install_miniconda()"
      ],
      "execution_count": 3,
      "outputs": [
        {
          "output_type": "stream",
          "text": [
            "⏬ Downloading https://repo.anaconda.com/miniconda/Miniconda3-py37_4.9.2-Linux-x86_64.sh...\n",
            "📦 Installing...\n",
            "📌 Adjusting configuration...\n",
            "🩹 Patching environment...\n",
            "⏲ Done in 0:00:33\n",
            "🔁 Restarting kernel...\n"
          ],
          "name": "stdout"
        }
      ]
    },
    {
      "cell_type": "markdown",
      "metadata": {
        "id": "bk6jC813gxrq"
      },
      "source": [
        "Now, install GDAL"
      ]
    },
    {
      "cell_type": "code",
      "metadata": {
        "colab": {
          "base_uri": "https://localhost:8080/"
        },
        "id": "AlZNzwpId9xA",
        "outputId": "7f422eb1-97c7-4333-a890-21f823de78b3"
      },
      "source": [
        "!conda install -c conda-forge gdal=3.2.0"
      ],
      "execution_count": 1,
      "outputs": [
        {
          "output_type": "stream",
          "text": [
            "Collecting package metadata (current_repodata.json): - \b\b\\ \b\b| \b\b/ \b\b- \b\b\\ \b\b| \b\b/ \b\b- \b\b\\ \b\b| \b\b/ \b\b- \b\b\\ \b\b| \b\b/ \b\b- \b\b\\ \b\b| \b\b/ \b\b- \b\b\\ \b\b| \b\b/ \b\b- \b\b\\ \b\b| \b\b/ \b\b- \b\b\\ \b\b| \b\b/ \b\b- \b\b\\ \b\b| \b\b/ \b\b- \b\b\\ \b\b| \b\b/ \b\b- \b\b\\ \b\b| \b\b/ \b\b- \b\b\\ \b\b| \b\b/ \b\b- \b\b\\ \b\b| \b\b/ \b\b- \b\b\\ \b\b| \b\b/ \b\b- \b\b\\ \b\b| \b\b/ \b\b- \b\b\\ \b\b| \b\b/ \b\b- \b\b\\ \b\b| \b\b/ \b\b- \b\b\\ \b\b| \b\b/ \b\b- \b\b\\ \b\b| \b\b/ \b\b- \b\b\\ \b\b| \b\b/ \b\b- \b\b\\ \b\b| \b\b/ \b\b- \b\b\\ \b\b| \b\b/ \b\bdone\n",
            "Solving environment: \\ \b\bfailed with initial frozen solve. Retrying with flexible solve.\n",
            "Collecting package metadata (repodata.json): / \b\b- \b\b\\ \b\b| \b\b/ \b\b- \b\b\\ \b\b| \b\b/ \b\b- \b\b\\ \b\b| \b\b/ \b\b- \b\b\\ \b\b| \b\b/ \b\b- \b\b\\ \b\b| \b\b/ \b\b- \b\b\\ \b\b| \b\b/ \b\b- \b\b\\ \b\b| \b\b/ \b\b- \b\b\\ \b\b| \b\b/ \b\b- \b\b\\ \b\b| \b\b/ \b\b- \b\b\\ \b\b| \b\b/ \b\b- \b\b\\ \b\b| \b\b/ \b\b- \b\b\\ \b\b| \b\b/ \b\b- \b\b\\ \b\b| \b\b/ \b\b- \b\b\\ \b\b| \b\b/ \b\b- \b\b\\ \b\b| \b\b/ \b\b- \b\b\\ \b\b| \b\b/ \b\b- \b\b\\ \b\b| \b\b/ \b\b- \b\b\\ \b\b| \b\b/ \b\b- \b\b\\ \b\b| \b\b/ \b\b- \b\b\\ \b\b| \b\b/ \b\b- \b\b\\ \b\b| \b\b/ \b\b- \b\b\\ \b\b| \b\b/ \b\b- \b\b\\ \b\b| \b\b/ \b\b- \b\b\\ \b\b| \b\b/ \b\b- \b\b\\ \b\b| \b\b/ \b\b- \b\b\\ \b\b| \b\b/ \b\b- \b\b\\ \b\b| \b\b/ \b\b- \b\b\\ \b\b| \b\b/ \b\b- \b\b\\ \b\b| \b\b/ \b\b- \b\b\\ \b\b| \b\b/ \b\b- \b\b\\ \b\b| \b\b/ \b\b- \b\b\\ \b\b| \b\b/ \b\b- \b\b\\ \b\b| \b\b/ \b\b- \b\b\\ \b\b| \b\b/ \b\b- \b\b\\ \b\b| \b\b/ \b\b- \b\b\\ \b\b| \b\b/ \b\b- \b\b\\ \b\b| \b\b/ \b\b- \b\b\\ \b\b| \b\b/ \b\b- \b\b\\ \b\b| \b\b/ \b\b- \b\b\\ \b\b| \b\b/ \b\b- \b\b\\ \b\b| \b\b/ \b\b- \b\b\\ \b\b| \b\b/ \b\b- \b\b\\ \b\b| \b\b/ \b\b- \b\b\\ \b\b| \b\b/ \b\b- \b\b\\ \b\b| \b\b/ \b\b- \b\b\\ \b\b| \b\b/ \b\b- \b\b\\ \b\b| \b\b/ \b\b- \b\b\\ \b\b| \b\b/ \b\b- \b\b\\ \b\b| \b\b/ \b\b- \b\b\\ \b\b| \b\b/ \b\b- \b\b\\ \b\b| \b\b/ \b\b- \b\b\\ \b\b| \b\b/ \b\b- \b\b\\ \b\b| \b\b/ \b\b- \b\b\\ \b\b| \b\b/ \b\b- \b\b\\ \b\b| \b\b/ \b\b- \b\b\\ \b\b| \b\b/ \b\b- \b\b\\ \b\b| \b\b/ \b\b- \b\b\\ \b\b| \b\b/ \b\b- \b\b\\ \b\b| \b\b/ \b\b- \b\b\\ \b\b| \b\b/ \b\b- \b\b\\ \b\b| \b\b/ \b\b- \b\b\\ \b\b| \b\b/ \b\b- \b\b\\ \b\b| \b\b/ \b\b- \b\b\\ \b\b| \b\b/ \b\b- \b\b\\ \b\b| \b\b/ \b\b- \b\b\\ \b\b| \b\b/ \b\b- \b\b\\ \b\b| \b\b/ \b\b- \b\b\\ \b\b| \b\b/ \b\b- \b\b\\ \b\b| \b\b/ \b\b- \b\b\\ \b\b| \b\b/ \b\b- \b\b\\ \b\b| \b\b/ \b\b- \b\b\\ \b\b| \b\b/ \b\b- \b\b\\ \b\b| \b\b/ \b\b- \b\b\\ \b\b| \b\b/ \b\b- \b\b\\ \b\b| \b\b/ \b\b- \b\b\\ \b\b| \b\b/ \b\b- \b\b\\ \b\bdone\n",
            "Solving environment: / \b\b- \b\b\\ \b\b| \b\b/ \b\b- \b\b\\ \b\b| \b\b/ \b\b- \b\b\\ \b\b| \b\b/ \b\b- \b\b\\ \b\b| \b\b/ \b\b- \b\b\\ \b\b| \b\b/ \b\b- \b\b\\ \b\b| \b\b/ \b\b- \b\b\\ \b\b| \b\b/ \b\b- \b\b\\ \b\b| \b\b/ \b\b- \b\b\\ \b\b| \b\b/ \b\b- \b\b\\ \b\b| \b\b/ \b\b- \b\b\\ \b\b| \b\b/ \b\b- \b\b\\ \b\b| \b\b/ \b\b- \b\b\\ \b\b| \b\b/ \b\b- \b\b\\ \b\b| \b\b/ \b\b- \b\b\\ \b\b| \b\b/ \b\b- \b\b\\ \b\b| \b\b/ \b\b- \b\b\\ \b\b| \b\b/ \b\b- \b\b\\ \b\b| \b\b/ \b\b- \b\b\\ \b\b| \b\b/ \b\b- \b\b\\ \b\b| \b\b/ \b\b- \b\b\\ \b\b| \b\b/ \b\b- \b\b\\ \b\b| \b\b/ \b\b- \b\b\\ \b\b| \b\b/ \b\b- \b\b\\ \b\b| \b\b/ \b\b- \b\b\\ \b\b| \b\b/ \b\b- \b\b\\ \b\b| \b\b/ \b\b- \b\b\\ \b\b| \b\b/ \b\b- \b\b\\ \b\b| \b\b/ \b\b- \b\b\\ \b\b| \b\b/ \b\b- \b\b\\ \b\b| \b\b/ \b\b- \b\b\\ \b\b| \b\b/ \b\b- \b\b\\ \b\b| \b\b/ \b\b- \b\b\\ \b\b| \b\b/ \b\b- \b\b\\ \b\b| \b\b/ \b\b- \b\b\\ \b\b| \b\b/ \b\b- \b\b\\ \b\b| \b\b/ \b\b- \b\b\\ \b\b| \b\b/ \b\b- \b\b\\ \b\b| \b\b/ \b\b- \b\b\\ \b\b| \b\b/ \b\b- \b\b\\ \b\b| \b\b/ \b\b- \b\b\\ \b\b| \b\b/ \b\b- \b\b\\ \b\b| \b\b/ \b\b- \b\b\\ \b\b| \b\b/ \b\b- \b\b\\ \b\b| \b\b/ \b\b- \b\b\\ \b\b| \b\b/ \b\b- \b\b\\ \b\b| \b\b/ \b\b- \b\b\\ \b\b| \b\b/ \b\b- \b\b\\ \b\b| \b\b/ \b\b- \b\b\\ \b\b| \b\b/ \b\b- \b\b\\ \b\b| \b\b/ \b\b- \b\b\\ \b\b| \b\b/ \b\b- \b\b\\ \b\b| \b\b/ \b\b- \b\b\\ \b\b| \b\b/ \b\b- \b\b\\ \b\b| \b\b/ \b\b- \b\b\\ \b\b| \b\b/ \b\b- \b\b\\ \b\b| \b\b/ \b\b- \b\b\\ \b\b| \b\b/ \b\b- \b\b\\ \b\b| \b\b/ \b\b- \b\b\\ \b\b| \b\b/ \b\b- \b\b\\ \b\b| \b\b/ \b\b- \b\b\\ \b\bdone\n",
            "\n",
            "\n",
            "==> WARNING: A newer version of conda exists. <==\n",
            "  current version: 4.9.2\n",
            "  latest version: 4.10.3\n",
            "\n",
            "Please update conda by running\n",
            "\n",
            "    $ conda update -n base -c defaults conda\n",
            "\n",
            "\n",
            "\n",
            "## Package Plan ##\n",
            "\n",
            "  environment location: /usr/local\n",
            "\n",
            "  added / updated specs:\n",
            "    - gdal=3.2.0\n",
            "\n",
            "\n",
            "The following packages will be downloaded:\n",
            "\n",
            "    package                    |            build\n",
            "    ---------------------------|-----------------\n",
            "    boost-cpp-1.74.0           |       h9359b55_0        16.4 MB  conda-forge\n",
            "    bzip2-1.0.8                |       h516909a_3         398 KB  conda-forge\n",
            "    ca-certificates-2021.5.30  |       ha878542_0         136 KB  conda-forge\n",
            "    cairo-1.16.0               |    h3fc0475_1005         1.5 MB  conda-forge\n",
            "    certifi-2021.5.30          |   py37h89c1867_0         141 KB  conda-forge\n",
            "    cfitsio-3.470              |       h2e3daa1_7         1.3 MB  conda-forge\n",
            "    conda-4.10.3               |   py37h89c1867_0         3.1 MB  conda-forge\n",
            "    cudatoolkit-11.0.221       |       h6bb024c_0       622.9 MB\n",
            "    curl-7.71.1                |       he644dc0_3         140 KB  conda-forge\n",
            "    expat-2.2.9                |       he1b5a44_2         191 KB  conda-forge\n",
            "    fontconfig-2.13.1          |    h7e3eb15_1002         324 KB  conda-forge\n",
            "    freetype-2.10.4            |       h7ca028e_0         912 KB  conda-forge\n",
            "    freexl-1.0.5               |    h516909a_1002          46 KB  conda-forge\n",
            "    gdal-3.2.0                 |   py37h6bca1a1_0         1.3 MB  conda-forge\n",
            "    geos-3.8.1                 |       he1b5a44_0         1.0 MB  conda-forge\n",
            "    geotiff-1.6.0              |       h5d11630_3         278 KB  conda-forge\n",
            "    giflib-5.2.1               |       h36c2ea0_2          77 KB  conda-forge\n",
            "    glib-2.68.2                |       h36276a3_0         3.0 MB\n",
            "    hdf4-4.2.13                |    hf30be14_1003         964 KB  conda-forge\n",
            "    hdf5-1.10.6                |nompi_h7c3c948_1111         3.1 MB  conda-forge\n",
            "    icu-67.1                   |       he1b5a44_0        12.9 MB  conda-forge\n",
            "    jpeg-9d                    |       h36c2ea0_0         264 KB  conda-forge\n",
            "    json-c-0.13.1              |    hbfbb72e_1002          76 KB  conda-forge\n",
            "    kealib-1.4.13              |       h33137a7_1         172 KB  conda-forge\n",
            "    krb5-1.17.2                |       h926e7f8_0         1.4 MB  conda-forge\n",
            "    libblas-3.9.0              |       8_openblas          11 KB  conda-forge\n",
            "    libcblas-3.9.0             |       8_openblas          11 KB  conda-forge\n",
            "    libcurl-7.71.1             |       hcdd3856_3         302 KB  conda-forge\n",
            "    libdap4-3.20.6             |       h1d1bd15_1         7.9 MB  conda-forge\n",
            "    libgdal-3.2.0              |       h24f7f85_0        12.0 MB  conda-forge\n",
            "    libgfortran-ng-7.5.0       |      h14aa051_19          22 KB  conda-forge\n",
            "    libgfortran4-7.5.0         |      h14aa051_19         1.3 MB  conda-forge\n",
            "    libiconv-1.16              |       h516909a_0         1.4 MB  conda-forge\n",
            "    libkml-1.3.0               |    h74f7ee3_1012         649 KB  conda-forge\n",
            "    liblapack-3.9.0            |       8_openblas          11 KB  conda-forge\n",
            "    libnetcdf-4.7.4            |nompi_h56d31a8_107         1.3 MB  conda-forge\n",
            "    libopenblas-0.3.12         |pthreads_hb3c22a3_1         8.2 MB  conda-forge\n",
            "    libpng-1.6.37              |       h21135ba_2         306 KB  conda-forge\n",
            "    libpq-12.3                 |       h255efa7_3         2.6 MB  conda-forge\n",
            "    libspatialite-5.0.0        |       h4dde289_0         3.9 MB  conda-forge\n",
            "    libssh2-1.9.0              |       hab1572f_5         225 KB  conda-forge\n",
            "    libtiff-4.1.0              |       h4f3a223_6         618 KB  conda-forge\n",
            "    libuuid-2.32.1             |    h14c3975_1000          26 KB  conda-forge\n",
            "    libwebp-base-1.1.0         |       h36c2ea0_3         864 KB  conda-forge\n",
            "    libxcb-1.13                |    h14c3975_1002         396 KB  conda-forge\n",
            "    libxml2-2.9.10             |       h68273f3_2         1.3 MB  conda-forge\n",
            "    lz4-c-1.9.2                |       he1b5a44_3         203 KB  conda-forge\n",
            "    numpy-1.19.4               |   py37h7e9df27_1         5.2 MB  conda-forge\n",
            "    openjpeg-2.3.1             |       h981e76c_3         475 KB  conda-forge\n",
            "    openssl-1.1.1h             |       h516909a_0         2.1 MB  conda-forge\n",
            "    pcre-8.44                  |       he1b5a44_0         261 KB  conda-forge\n",
            "    pixman-0.38.0              |    h516909a_1003         594 KB  conda-forge\n",
            "    poppler-0.89.0             |       h669c267_1        13.4 MB  conda-forge\n",
            "    poppler-data-0.4.10        |                0         3.8 MB  conda-forge\n",
            "    postgresql-12.3            |       hc2f5b80_3         5.0 MB  conda-forge\n",
            "    proj-7.1.1                 |       h966b41f_3         2.5 MB  conda-forge\n",
            "    pthread-stubs-0.4          |    h36c2ea0_1001           5 KB  conda-forge\n",
            "    python_abi-3.7             |          2_cp37m           4 KB  conda-forge\n",
            "    tiledb-2.1.5               |       h17508cd_0         2.2 MB  conda-forge\n",
            "    tzcode-2020a               |       h516909a_0         425 KB  conda-forge\n",
            "    xerces-c-3.2.3             |       hfe33f54_1         1.7 MB  conda-forge\n",
            "    xorg-kbproto-1.0.7         |    h14c3975_1002          26 KB  conda-forge\n",
            "    xorg-libice-1.0.10         |       h516909a_0          57 KB  conda-forge\n",
            "    xorg-libsm-1.2.3           |    h84519dc_1000          25 KB  conda-forge\n",
            "    xorg-libx11-1.6.12         |       h36c2ea0_0         919 KB  conda-forge\n",
            "    xorg-libxau-1.0.9          |       h14c3975_0          13 KB  conda-forge\n",
            "    xorg-libxdmcp-1.1.3        |       h516909a_0          18 KB  conda-forge\n",
            "    xorg-libxext-1.3.4         |       h516909a_0          51 KB  conda-forge\n",
            "    xorg-libxrender-0.9.10     |    h516909a_1002          31 KB  conda-forge\n",
            "    xorg-renderproto-0.11.1    |    h14c3975_1002           8 KB  conda-forge\n",
            "    xorg-xextproto-7.3.0       |    h14c3975_1002          27 KB  conda-forge\n",
            "    xorg-xproto-7.0.31         |    h14c3975_1007          72 KB  conda-forge\n",
            "    zstd-1.4.5                 |       h6597ccf_2         712 KB  conda-forge\n",
            "    ------------------------------------------------------------\n",
            "                                           Total:       754.5 MB\n",
            "\n",
            "The following NEW packages will be INSTALLED:\n",
            "\n",
            "  boost-cpp          conda-forge/linux-64::boost-cpp-1.74.0-h9359b55_0\n",
            "  bzip2              conda-forge/linux-64::bzip2-1.0.8-h516909a_3\n",
            "  cairo              conda-forge/linux-64::cairo-1.16.0-h3fc0475_1005\n",
            "  cfitsio            conda-forge/linux-64::cfitsio-3.470-h2e3daa1_7\n",
            "  cudatoolkit        pkgs/main/linux-64::cudatoolkit-11.0.221-h6bb024c_0\n",
            "  curl               conda-forge/linux-64::curl-7.71.1-he644dc0_3\n",
            "  expat              conda-forge/linux-64::expat-2.2.9-he1b5a44_2\n",
            "  fontconfig         conda-forge/linux-64::fontconfig-2.13.1-h7e3eb15_1002\n",
            "  freetype           conda-forge/linux-64::freetype-2.10.4-h7ca028e_0\n",
            "  freexl             conda-forge/linux-64::freexl-1.0.5-h516909a_1002\n",
            "  gdal               conda-forge/linux-64::gdal-3.2.0-py37h6bca1a1_0\n",
            "  geos               conda-forge/linux-64::geos-3.8.1-he1b5a44_0\n",
            "  geotiff            conda-forge/linux-64::geotiff-1.6.0-h5d11630_3\n",
            "  giflib             conda-forge/linux-64::giflib-5.2.1-h36c2ea0_2\n",
            "  glib               pkgs/main/linux-64::glib-2.68.2-h36276a3_0\n",
            "  hdf4               conda-forge/linux-64::hdf4-4.2.13-hf30be14_1003\n",
            "  hdf5               conda-forge/linux-64::hdf5-1.10.6-nompi_h7c3c948_1111\n",
            "  icu                conda-forge/linux-64::icu-67.1-he1b5a44_0\n",
            "  jpeg               conda-forge/linux-64::jpeg-9d-h36c2ea0_0\n",
            "  json-c             conda-forge/linux-64::json-c-0.13.1-hbfbb72e_1002\n",
            "  kealib             conda-forge/linux-64::kealib-1.4.13-h33137a7_1\n",
            "  krb5               conda-forge/linux-64::krb5-1.17.2-h926e7f8_0\n",
            "  libblas            conda-forge/linux-64::libblas-3.9.0-8_openblas\n",
            "  libcblas           conda-forge/linux-64::libcblas-3.9.0-8_openblas\n",
            "  libcurl            conda-forge/linux-64::libcurl-7.71.1-hcdd3856_3\n",
            "  libdap4            conda-forge/linux-64::libdap4-3.20.6-h1d1bd15_1\n",
            "  libgdal            conda-forge/linux-64::libgdal-3.2.0-h24f7f85_0\n",
            "  libgfortran-ng     conda-forge/linux-64::libgfortran-ng-7.5.0-h14aa051_19\n",
            "  libgfortran4       conda-forge/linux-64::libgfortran4-7.5.0-h14aa051_19\n",
            "  libiconv           conda-forge/linux-64::libiconv-1.16-h516909a_0\n",
            "  libkml             conda-forge/linux-64::libkml-1.3.0-h74f7ee3_1012\n",
            "  liblapack          conda-forge/linux-64::liblapack-3.9.0-8_openblas\n",
            "  libnetcdf          conda-forge/linux-64::libnetcdf-4.7.4-nompi_h56d31a8_107\n",
            "  libopenblas        conda-forge/linux-64::libopenblas-0.3.12-pthreads_hb3c22a3_1\n",
            "  libpng             conda-forge/linux-64::libpng-1.6.37-h21135ba_2\n",
            "  libpq              conda-forge/linux-64::libpq-12.3-h255efa7_3\n",
            "  libspatialite      conda-forge/linux-64::libspatialite-5.0.0-h4dde289_0\n",
            "  libssh2            conda-forge/linux-64::libssh2-1.9.0-hab1572f_5\n",
            "  libtiff            conda-forge/linux-64::libtiff-4.1.0-h4f3a223_6\n",
            "  libuuid            conda-forge/linux-64::libuuid-2.32.1-h14c3975_1000\n",
            "  libwebp-base       conda-forge/linux-64::libwebp-base-1.1.0-h36c2ea0_3\n",
            "  libxcb             conda-forge/linux-64::libxcb-1.13-h14c3975_1002\n",
            "  libxml2            conda-forge/linux-64::libxml2-2.9.10-h68273f3_2\n",
            "  lz4-c              conda-forge/linux-64::lz4-c-1.9.2-he1b5a44_3\n",
            "  numpy              conda-forge/linux-64::numpy-1.19.4-py37h7e9df27_1\n",
            "  openjpeg           conda-forge/linux-64::openjpeg-2.3.1-h981e76c_3\n",
            "  pcre               conda-forge/linux-64::pcre-8.44-he1b5a44_0\n",
            "  pixman             conda-forge/linux-64::pixman-0.38.0-h516909a_1003\n",
            "  poppler            conda-forge/linux-64::poppler-0.89.0-h669c267_1\n",
            "  poppler-data       conda-forge/noarch::poppler-data-0.4.10-0\n",
            "  postgresql         conda-forge/linux-64::postgresql-12.3-hc2f5b80_3\n",
            "  proj               conda-forge/linux-64::proj-7.1.1-h966b41f_3\n",
            "  pthread-stubs      conda-forge/linux-64::pthread-stubs-0.4-h36c2ea0_1001\n",
            "  python_abi         conda-forge/linux-64::python_abi-3.7-2_cp37m\n",
            "  tiledb             conda-forge/linux-64::tiledb-2.1.5-h17508cd_0\n",
            "  tzcode             conda-forge/linux-64::tzcode-2020a-h516909a_0\n",
            "  xerces-c           conda-forge/linux-64::xerces-c-3.2.3-hfe33f54_1\n",
            "  xorg-kbproto       conda-forge/linux-64::xorg-kbproto-1.0.7-h14c3975_1002\n",
            "  xorg-libice        conda-forge/linux-64::xorg-libice-1.0.10-h516909a_0\n",
            "  xorg-libsm         conda-forge/linux-64::xorg-libsm-1.2.3-h84519dc_1000\n",
            "  xorg-libx11        conda-forge/linux-64::xorg-libx11-1.6.12-h36c2ea0_0\n",
            "  xorg-libxau        conda-forge/linux-64::xorg-libxau-1.0.9-h14c3975_0\n",
            "  xorg-libxdmcp      conda-forge/linux-64::xorg-libxdmcp-1.1.3-h516909a_0\n",
            "  xorg-libxext       conda-forge/linux-64::xorg-libxext-1.3.4-h516909a_0\n",
            "  xorg-libxrender    conda-forge/linux-64::xorg-libxrender-0.9.10-h516909a_1002\n",
            "  xorg-renderproto   conda-forge/linux-64::xorg-renderproto-0.11.1-h14c3975_1002\n",
            "  xorg-xextproto     conda-forge/linux-64::xorg-xextproto-7.3.0-h14c3975_1002\n",
            "  xorg-xproto        conda-forge/linux-64::xorg-xproto-7.0.31-h14c3975_1007\n",
            "  zstd               conda-forge/linux-64::zstd-1.4.5-h6597ccf_2\n",
            "\n",
            "The following packages will be UPDATED:\n",
            "\n",
            "  ca-certificates    pkgs/main::ca-certificates-2020.10.14~ --> conda-forge::ca-certificates-2021.5.30-ha878542_0\n",
            "  certifi            pkgs/main/noarch::certifi-2020.6.20-p~ --> conda-forge/linux-64::certifi-2021.5.30-py37h89c1867_0\n",
            "  conda               pkgs/main::conda-4.9.2-py37h06a4308_0 --> conda-forge::conda-4.10.3-py37h89c1867_0\n",
            "\n",
            "The following packages will be SUPERSEDED by a higher-priority channel:\n",
            "\n",
            "  openssl              pkgs/main::openssl-1.1.1h-h7b6447c_0 --> conda-forge::openssl-1.1.1h-h516909a_0\n",
            "\n",
            "\n",
            "\n",
            "Downloading and Extracting Packages\n",
            "fontconfig-2.13.1    | 324 KB    | : 100% 1.0/1 [00:00<00:00,  4.50it/s]                \n",
            "hdf5-1.10.6          | 3.1 MB    | : 100% 1.0/1 [00:00<00:00,  1.69it/s]\n",
            "xorg-renderproto-0.1 | 8 KB      | : 100% 1.0/1 [00:00<00:00, 19.78it/s]\n",
            "cfitsio-3.470        | 1.3 MB    | : 100% 1.0/1 [00:00<00:00,  3.18it/s]\n",
            "xorg-libx11-1.6.12   | 919 KB    | : 100% 1.0/1 [00:00<00:00,  4.38it/s]\n",
            "libopenblas-0.3.12   | 8.2 MB    | : 100% 1.0/1 [00:01<00:00,  1.87s/it]\n",
            "numpy-1.19.4         | 5.2 MB    | : 100% 1.0/1 [00:01<00:00,  1.33s/it]\n",
            "xorg-xextproto-7.3.0 | 27 KB     | : 100% 1.0/1 [00:00<00:00, 23.42it/s]\n",
            "libpq-12.3           | 2.6 MB    | : 100% 1.0/1 [00:00<00:00,  1.40it/s]\n",
            "libwebp-base-1.1.0   | 864 KB    | : 100% 1.0/1 [00:00<00:00,  5.19it/s]\n",
            "geotiff-1.6.0        | 278 KB    | : 100% 1.0/1 [00:00<00:00,  8.55it/s]\n",
            "zstd-1.4.5           | 712 KB    | : 100% 1.0/1 [00:00<00:00,  5.60it/s]\n",
            "libgfortran4-7.5.0   | 1.3 MB    | : 100% 1.0/1 [00:00<00:00,  3.29it/s]\n",
            "libcblas-3.9.0       | 11 KB     | : 100% 1.0/1 [00:00<00:00, 25.23it/s]\n",
            "hdf4-4.2.13          | 964 KB    | : 100% 1.0/1 [00:00<00:00,  4.22it/s]\n",
            "giflib-5.2.1         | 77 KB     | : 100% 1.0/1 [00:00<00:00, 21.37it/s]\n",
            "libxcb-1.13          | 396 KB    | : 100% 1.0/1 [00:00<00:00,  5.87it/s]\n",
            "certifi-2021.5.30    | 141 KB    | : 100% 1.0/1 [00:00<00:00, 18.33it/s]\n",
            "poppler-data-0.4.10  | 3.8 MB    | : 100% 1.0/1 [00:00<00:00,  1.30it/s]\n",
            "libuuid-2.32.1       | 26 KB     | : 100% 1.0/1 [00:00<00:00, 22.06it/s]\n",
            "glib-2.68.2          | 3.0 MB    | : 100% 1.0/1 [00:00<00:00,  2.65it/s]\n",
            "kealib-1.4.13        | 172 KB    | : 100% 1.0/1 [00:00<00:00, 13.03it/s]\n",
            "libiconv-1.16        | 1.4 MB    | : 100% 1.0/1 [00:00<00:00,  4.21it/s]\n",
            "ca-certificates-2021 | 136 KB    | : 100% 1.0/1 [00:00<00:00, 18.31it/s]\n",
            "json-c-0.13.1        | 76 KB     | : 100% 1.0/1 [00:00<00:00, 19.38it/s]\n",
            "openssl-1.1.1h       | 2.1 MB    | : 100% 1.0/1 [00:00<00:00,  2.25it/s]\n",
            "liblapack-3.9.0      | 11 KB     | : 100% 1.0/1 [00:00<00:00, 28.73it/s]\n",
            "libkml-1.3.0         | 649 KB    | : 100% 1.0/1 [00:00<00:00,  3.93it/s]\n",
            "xorg-libxau-1.0.9    | 13 KB     | : 100% 1.0/1 [00:00<00:00, 29.60it/s]\n",
            "openjpeg-2.3.1       | 475 KB    | : 100% 1.0/1 [00:00<00:00,  8.09it/s]\n",
            "tiledb-2.1.5         | 2.2 MB    | : 100% 1.0/1 [00:00<00:00,  1.92it/s]\n",
            "conda-4.10.3         | 3.1 MB    | : 100% 1.0/1 [00:00<00:00,  1.31it/s]\n",
            "xerces-c-3.2.3       | 1.7 MB    | : 100% 1.0/1 [00:00<00:00,  1.92it/s]\n",
            "curl-7.71.1          | 140 KB    | : 100% 1.0/1 [00:00<00:00, 19.36it/s]\n",
            "libtiff-4.1.0        | 618 KB    | : 100% 1.0/1 [00:00<00:00,  6.51it/s]\n",
            "libpng-1.6.37        | 306 KB    | : 100% 1.0/1 [00:00<00:00, 10.00it/s]\n",
            "proj-7.1.1           | 2.5 MB    | : 100% 1.0/1 [00:00<00:00,  1.83it/s]\n",
            "icu-67.1             | 12.9 MB   | : 100% 1.0/1 [00:02<00:00,  2.34s/it]\n",
            "libnetcdf-4.7.4      | 1.3 MB    | : 100% 1.0/1 [00:00<00:00,  3.42it/s]\n",
            "libgdal-3.2.0        | 12.0 MB   | : 100% 1.0/1 [00:02<00:00,  2.33s/it]\n",
            "poppler-0.89.0       | 13.4 MB   | : 100% 1.0/1 [00:02<00:00,  2.48s/it]\n",
            "cudatoolkit-11.0.221 | 622.9 MB  | : 100% 1.0/1 [00:51<00:00, 51.53s/it]              \n",
            "xorg-libxext-1.3.4   | 51 KB     | : 100% 1.0/1 [00:00<00:00, 11.23it/s]\n",
            "pthread-stubs-0.4    | 5 KB      | : 100% 1.0/1 [00:00<00:00, 26.59it/s]\n",
            "libblas-3.9.0        | 11 KB     | : 100% 1.0/1 [00:00<00:00, 28.02it/s]\n",
            "python_abi-3.7       | 4 KB      | : 100% 1.0/1 [00:00<00:00, 23.22it/s]\n",
            "boost-cpp-1.74.0     | 16.4 MB   | : 100% 1.0/1 [00:07<00:00,  7.34s/it]               \n",
            "gdal-3.2.0           | 1.3 MB    | : 100% 1.0/1 [00:00<00:00,  1.43it/s]\n",
            "libspatialite-5.0.0  | 3.9 MB    | : 100% 1.0/1 [00:00<00:00,  1.19it/s]\n",
            "libxml2-2.9.10       | 1.3 MB    | : 100% 1.0/1 [00:00<00:00,  2.32it/s]\n",
            "libgfortran-ng-7.5.0 | 22 KB     | : 100% 1.0/1 [00:00<00:00, 20.32it/s]\n",
            "bzip2-1.0.8          | 398 KB    | : 100% 1.0/1 [00:00<00:00,  7.26it/s]\n",
            "expat-2.2.9          | 191 KB    | : 100% 1.0/1 [00:00<00:00, 11.78it/s]\n",
            "xorg-libxdmcp-1.1.3  | 18 KB     | : 100% 1.0/1 [00:00<00:00, 25.21it/s]\n",
            "libcurl-7.71.1       | 302 KB    | : 100% 1.0/1 [00:00<00:00, 10.42it/s]\n",
            "xorg-libxrender-0.9. | 31 KB     | : 100% 1.0/1 [00:00<00:00, 22.39it/s]\n",
            "cairo-1.16.0         | 1.5 MB    | : 100% 1.0/1 [00:00<00:00,  2.30it/s]\n",
            "krb5-1.17.2          | 1.4 MB    | : 100% 1.0/1 [00:00<00:00,  2.74it/s]\n",
            "tzcode-2020a         | 425 KB    | : 100% 1.0/1 [00:00<00:00,  3.89it/s]\n",
            "pixman-0.38.0        | 594 KB    | : 100% 1.0/1 [00:00<00:00,  6.11it/s]\n",
            "libssh2-1.9.0        | 225 KB    | : 100% 1.0/1 [00:00<00:00,  9.49it/s]\n",
            "jpeg-9d              | 264 KB    | : 100% 1.0/1 [00:00<00:00, 10.72it/s]\n",
            "xorg-libice-1.0.10   | 57 KB     | : 100% 1.0/1 [00:00<00:00, 20.67it/s]\n",
            "libdap4-3.20.6       | 7.9 MB    | : 100% 1.0/1 [00:01<00:00,  1.42s/it]              \n",
            "lz4-c-1.9.2          | 203 KB    | : 100% 1.0/1 [00:00<00:00, 13.58it/s]\n",
            "postgresql-12.3      | 5.0 MB    | : 100% 1.0/1 [00:01<00:00,  1.11s/it]               \n",
            "freexl-1.0.5         | 46 KB     | : 100% 1.0/1 [00:00<00:00, 25.70it/s]\n",
            "pcre-8.44            | 261 KB    | : 100% 1.0/1 [00:00<00:00, 10.54it/s]\n",
            "xorg-libsm-1.2.3     | 25 KB     | : 100% 1.0/1 [00:00<00:00, 21.93it/s]\n",
            "geos-3.8.1           | 1.0 MB    | : 100% 1.0/1 [00:00<00:00,  2.98it/s]\n",
            "freetype-2.10.4      | 912 KB    | : 100% 1.0/1 [00:00<00:00,  4.39it/s]\n",
            "xorg-kbproto-1.0.7   | 26 KB     | : 100% 1.0/1 [00:00<00:00, 24.79it/s]\n",
            "xorg-xproto-7.0.31   | 72 KB     | : 100% 1.0/1 [00:00<00:00, 18.63it/s]\n",
            "Preparing transaction: / \b\b- \b\b\\ \b\b| \b\b/ \b\b- \b\b\\ \b\b| \b\b/ \b\bdone\n",
            "Verifying transaction: \\ \b\b| \b\b/ \b\b- \b\b\\ \b\b| \b\b/ \b\b- \b\b\\ \b\b| \b\b/ \b\b- \b\b\\ \b\b| \b\b/ \b\b- \b\b\\ \b\b| \b\b/ \b\b- \b\b\\ \b\b| \b\b/ \b\b- \b\b\\ \b\b| \b\b/ \b\b- \b\b\\ \b\b| \b\b/ \b\b- \b\b\\ \b\bdone\n",
            "Executing transaction: / \b\b- \b\b\\ \b\b| \b\b/ \b\b- \b\b\\ \b\b| \b\b/ \b\b- \b\b\\ \b\b| \b\b/ \b\b- \b\b\\ \b\b| \b\b/ \b\b- \b\b\\ \b\b| By downloading and using the CUDA Toolkit conda packages, you accept the terms and conditions of the CUDA End User License Agreement (EULA): https://docs.nvidia.com/cuda/eula/index.html\n",
            "\n",
            "\b\b/ \b\b- \b\b\\ \b\b| \b\b/ \b\b- \b\b\\ \b\b| \b\b/ \b\bdone\n"
          ],
          "name": "stdout"
        }
      ]
    },
    {
      "cell_type": "markdown",
      "metadata": {
        "id": "G0MqJqOaS4qV"
      },
      "source": [
        "Next, we install the actual GIBS Downloader. You will see some Warnings, but they can be ignored."
      ]
    },
    {
      "cell_type": "code",
      "metadata": {
        "colab": {
          "base_uri": "https://localhost:8080/",
          "height": 1000
        },
        "id": "w4bLsF-Iz0aG",
        "outputId": "f70ec143-1bd1-4d53-e042-92644620d44a"
      },
      "source": [
        "# You will need to run this as well just for this colab notebook\n",
        "!pip install ipykernel\n",
        "\n",
        "# Install GIBS Downloader\n",
        "!pip install \"git+https://github.com/spaceml-org/GIBS-Downloader.git#egg=GIBSDownloader\""
      ],
      "execution_count": null,
      "outputs": [
        {
          "output_type": "stream",
          "text": [
            "Collecting GIBSDownloader\n",
            "  Cloning https://github.com/spaceml-org/GIBS-Downloader.git (to revision fernando/tiling-speedup) to /tmp/pip-install-wdx0gudm/gibsdownloader\n",
            "Collecting beautifulsoup4~=4.9.3\n",
            "  Downloading beautifulsoup4-4.9.3-py3-none-any.whl (115 kB)\n",
            "\u001b[K     |████████████████████████████████| 115 kB 5.1 MB/s \n",
            "\u001b[?25hCollecting certifi~=2020.12.5\n",
            "  Downloading certifi-2020.12.5-py2.py3-none-any.whl (147 kB)\n",
            "\u001b[K     |████████████████████████████████| 147 kB 33.8 MB/s \n",
            "\u001b[?25hCollecting cycler~=0.10.0\n",
            "  Downloading cycler-0.10.0-py2.py3-none-any.whl (6.5 kB)\n",
            "Requirement already satisfied: GDAL==3.2.0 in /usr/local/lib/python3.7/site-packages (from GIBSDownloader) (3.2.0)\n",
            "Collecting kiwisolver~=1.3.1\n",
            "  Downloading kiwisolver-1.3.1-cp37-cp37m-manylinux1_x86_64.whl (1.1 MB)\n",
            "\u001b[K     |████████████████████████████████| 1.1 MB 31.1 MB/s \n",
            "\u001b[?25hCollecting lxml~=4.6.3\n",
            "  Downloading lxml-4.6.3-cp37-cp37m-manylinux2014_x86_64.whl (6.3 MB)\n",
            "\u001b[K     |████████████████████████████████| 6.3 MB 32.7 MB/s \n",
            "\u001b[?25hCollecting matplotlib~=3.3.3\n",
            "  Downloading matplotlib-3.3.4-cp37-cp37m-manylinux1_x86_64.whl (11.5 MB)\n",
            "\u001b[K     |████████████████████████████████| 11.5 MB 23.4 MB/s \n",
            "\u001b[?25hCollecting numpy~=1.19.5\n",
            "  Downloading numpy-1.19.5-cp37-cp37m-manylinux2010_x86_64.whl (14.8 MB)\n",
            "\u001b[K     |████████████████████████████████| 14.8 MB 170 kB/s \n",
            "\u001b[?25hCollecting opencv-python-headless~=4.5.1.48\n",
            "  Downloading opencv_python_headless-4.5.1.48-cp37-cp37m-manylinux2014_x86_64.whl (37.6 MB)\n",
            "\u001b[K     |████████████████████████████████| 37.6 MB 9.1 kB/s \n",
            "\u001b[?25hCollecting pandas~=1.2.4\n",
            "  Downloading pandas-1.2.5-cp37-cp37m-manylinux_2_5_x86_64.manylinux1_x86_64.whl (9.9 MB)\n",
            "\u001b[K     |████████████████████████████████| 9.9 MB 45.5 MB/s \n",
            "\u001b[?25hCollecting Pillow~=8.1.1\n",
            "  Downloading Pillow-8.1.2-cp37-cp37m-manylinux1_x86_64.whl (2.2 MB)\n",
            "\u001b[K     |████████████████████████████████| 2.2 MB 38.5 MB/s \n",
            "\u001b[?25hCollecting pyparsing~=2.4.7\n",
            "  Downloading pyparsing-2.4.7-py2.py3-none-any.whl (67 kB)\n",
            "\u001b[K     |████████████████████████████████| 67 kB 4.4 MB/s \n",
            "\u001b[?25hCollecting pyproj~=3.0.0.post1\n",
            "  Downloading pyproj-3.0.1-cp37-cp37m-manylinux2010_x86_64.whl (6.5 MB)\n",
            "\u001b[K     |████████████████████████████████| 6.5 MB 40.7 MB/s \n",
            "\u001b[?25hCollecting python-dateutil~=2.8.1\n",
            "  Downloading python_dateutil-2.8.2-py2.py3-none-any.whl (247 kB)\n",
            "\u001b[K     |████████████████████████████████| 247 kB 33.1 MB/s \n",
            "\u001b[?25hRequirement already satisfied: six~=1.15.0 in /usr/local/lib/python3.7/site-packages (from GIBSDownloader) (1.15.0)\n",
            "Collecting tqdm~=4.56.0\n",
            "  Downloading tqdm-4.56.2-py2.py3-none-any.whl (72 kB)\n",
            "\u001b[K     |████████████████████████████████| 72 kB 938 kB/s \n",
            "\u001b[?25hCollecting soupsieve>1.2; python_version >= \"3.0\"\n",
            "  Downloading soupsieve-2.2.1-py3-none-any.whl (33 kB)\n",
            "Collecting pytz>=2017.3\n",
            "  Downloading pytz-2021.1-py2.py3-none-any.whl (510 kB)\n",
            "\u001b[K     |████████████████████████████████| 510 kB 73.4 MB/s \n",
            "\u001b[?25hBuilding wheels for collected packages: GIBSDownloader\n",
            "  Building wheel for GIBSDownloader (setup.py) ... \u001b[?25l\u001b[?25hdone\n",
            "  Created wheel for GIBSDownloader: filename=GIBSDownloader-1.0.0-py3-none-any.whl size=18210 sha256=ffd0601aa785780a55edd40e51500297a77820ee6ee85c35baa7a96363a9c183\n",
            "  Stored in directory: /tmp/pip-ephem-wheel-cache-p_srjjy0/wheels/a2/0a/1e/99bf7842ce4596711bad0dd727627aeaaaa6ec538f664f63a0\n",
            "Successfully built GIBSDownloader\n",
            "Installing collected packages: soupsieve, beautifulsoup4, certifi, cycler, kiwisolver, lxml, pyparsing, python-dateutil, numpy, Pillow, matplotlib, opencv-python-headless, pytz, pandas, pyproj, tqdm, GIBSDownloader\n",
            "  Attempting uninstall: certifi\n",
            "    Found existing installation: certifi 2021.5.30\n",
            "    Uninstalling certifi-2021.5.30:\n",
            "      Successfully uninstalled certifi-2021.5.30\n",
            "  Attempting uninstall: numpy\n",
            "    Found existing installation: numpy 1.19.4\n",
            "    Uninstalling numpy-1.19.4:\n",
            "      Successfully uninstalled numpy-1.19.4\n",
            "  Attempting uninstall: tqdm\n",
            "    Found existing installation: tqdm 4.51.0\n",
            "    Uninstalling tqdm-4.51.0:\n",
            "      Successfully uninstalled tqdm-4.51.0\n",
            "\u001b[31mERROR: After October 2020 you may experience errors when installing or updating packages. This is because pip will change the way that it resolves dependency conflicts.\n",
            "\n",
            "We recommend you use --use-feature=2020-resolver to test your packages with the new resolver before it becomes the default.\n",
            "\n",
            "conda 4.10.3 requires ruamel_yaml_conda>=0.11.14, which is not installed.\u001b[0m\n",
            "Successfully installed GIBSDownloader-1.0.0 Pillow-8.1.2 beautifulsoup4-4.9.3 certifi-2020.12.5 cycler-0.10.0 kiwisolver-1.3.1 lxml-4.6.3 matplotlib-3.3.4 numpy-1.19.5 opencv-python-headless-4.5.1.48 pandas-1.2.5 pyparsing-2.4.7 pyproj-3.0.1 python-dateutil-2.8.2 pytz-2021.1 soupsieve-2.2.1 tqdm-4.56.2\n"
          ],
          "name": "stdout"
        },
        {
          "output_type": "display_data",
          "data": {
            "application/vnd.colab-display-data+json": {
              "pip_warning": {
                "packages": [
                  "cycler",
                  "kiwisolver",
                  "numpy",
                  "pyparsing"
                ]
              }
            }
          },
          "metadata": {
            "tags": []
          }
        }
      ]
    },
    {
      "cell_type": "markdown",
      "metadata": {
        "id": "13pXv5_a6-xg"
      },
      "source": [
        "### Installing TensorFlow\n",
        "If you wish to generate TFRecords, then you will need to install TensorFlow as well"
      ]
    },
    {
      "cell_type": "code",
      "metadata": {
        "colab": {
          "base_uri": "https://localhost:8080/",
          "height": 1000
        },
        "id": "W2eF71MA6Z4J",
        "outputId": "b38d280a-97ee-49fe-b473-886f49dc411e"
      },
      "source": [
        "# If you want to generate TFRecords:\n",
        "!pip install tensorflow==2.5.0"
      ],
      "execution_count": null,
      "outputs": [
        {
          "output_type": "stream",
          "text": [
            "Collecting tensorflow==2.5.0\n",
            "  Downloading tensorflow-2.5.0-cp37-cp37m-manylinux2010_x86_64.whl (454.3 MB)\n",
            "\u001b[K     |████████████████████████████████| 454.3 MB 11 kB/s \n",
            "\u001b[?25hRequirement already satisfied: wheel~=0.35 in /usr/local/lib/python3.7/site-packages (from tensorflow==2.5.0) (0.35.1)\n",
            "Collecting grpcio~=1.34.0\n",
            "  Downloading grpcio-1.34.1-cp37-cp37m-manylinux2014_x86_64.whl (4.0 MB)\n",
            "\u001b[K     |████████████████████████████████| 4.0 MB 46.6 MB/s \n",
            "\u001b[?25hCollecting absl-py~=0.10\n",
            "  Downloading absl_py-0.13.0-py3-none-any.whl (132 kB)\n",
            "\u001b[K     |████████████████████████████████| 132 kB 63.5 MB/s \n",
            "\u001b[?25hCollecting google-pasta~=0.2\n",
            "  Downloading google_pasta-0.2.0-py3-none-any.whl (57 kB)\n",
            "\u001b[K     |████████████████████████████████| 57 kB 3.8 MB/s \n",
            "\u001b[?25hCollecting wrapt~=1.12.1\n",
            "  Downloading wrapt-1.12.1.tar.gz (27 kB)\n",
            "Collecting flatbuffers~=1.12.0\n",
            "  Downloading flatbuffers-1.12-py2.py3-none-any.whl (15 kB)\n",
            "Collecting gast==0.4.0\n",
            "  Downloading gast-0.4.0-py3-none-any.whl (9.8 kB)\n",
            "Collecting tensorboard~=2.5\n",
            "  Downloading tensorboard-2.5.0-py3-none-any.whl (6.0 MB)\n",
            "\u001b[K     |████████████████████████████████| 6.0 MB 30.4 MB/s \n",
            "\u001b[?25hRequirement already satisfied: six~=1.15.0 in /usr/local/lib/python3.7/site-packages (from tensorflow==2.5.0) (1.15.0)\n",
            "Collecting keras-nightly~=2.5.0.dev\n",
            "  Downloading keras_nightly-2.5.0.dev2021032900-py2.py3-none-any.whl (1.2 MB)\n",
            "\u001b[K     |████████████████████████████████| 1.2 MB 43.2 MB/s \n",
            "\u001b[?25hCollecting tensorflow-estimator<2.6.0,>=2.5.0rc0\n",
            "  Downloading tensorflow_estimator-2.5.0-py2.py3-none-any.whl (462 kB)\n",
            "\u001b[K     |████████████████████████████████| 462 kB 44.5 MB/s \n",
            "\u001b[?25hCollecting astunparse~=1.6.3\n",
            "  Downloading astunparse-1.6.3-py2.py3-none-any.whl (12 kB)\n",
            "Requirement already satisfied: numpy~=1.19.2 in /usr/local/lib/python3.7/site-packages (from tensorflow==2.5.0) (1.19.5)\n",
            "Collecting keras-preprocessing~=1.1.2\n",
            "  Downloading Keras_Preprocessing-1.1.2-py2.py3-none-any.whl (42 kB)\n",
            "\u001b[K     |████████████████████████████████| 42 kB 1.0 MB/s \n",
            "\u001b[?25hCollecting protobuf>=3.9.2\n",
            "  Downloading protobuf-3.17.3-cp37-cp37m-manylinux_2_5_x86_64.manylinux1_x86_64.whl (1.0 MB)\n",
            "\u001b[K     |████████████████████████████████| 1.0 MB 39.4 MB/s \n",
            "\u001b[?25hCollecting typing-extensions~=3.7.4\n",
            "  Downloading typing_extensions-3.7.4.3-py3-none-any.whl (22 kB)\n",
            "Collecting termcolor~=1.1.0\n",
            "  Downloading termcolor-1.1.0.tar.gz (3.9 kB)\n",
            "Collecting h5py~=3.1.0\n",
            "  Downloading h5py-3.1.0-cp37-cp37m-manylinux1_x86_64.whl (4.0 MB)\n",
            "\u001b[K     |████████████████████████████████| 4.0 MB 35.4 MB/s \n",
            "\u001b[?25hCollecting opt-einsum~=3.3.0\n",
            "  Downloading opt_einsum-3.3.0-py3-none-any.whl (65 kB)\n",
            "\u001b[K     |████████████████████████████████| 65 kB 3.0 MB/s \n",
            "\u001b[?25hCollecting werkzeug>=0.11.15\n",
            "  Downloading Werkzeug-2.0.1-py3-none-any.whl (288 kB)\n",
            "\u001b[K     |████████████████████████████████| 288 kB 54.6 MB/s \n",
            "\u001b[?25hCollecting tensorboard-plugin-wit>=1.6.0\n",
            "  Downloading tensorboard_plugin_wit-1.8.0-py3-none-any.whl (781 kB)\n",
            "\u001b[K     |████████████████████████████████| 781 kB 51.0 MB/s \n",
            "\u001b[?25hCollecting google-auth<2,>=1.6.3\n",
            "  Downloading google_auth-1.34.0-py2.py3-none-any.whl (152 kB)\n",
            "\u001b[K     |████████████████████████████████| 152 kB 75.0 MB/s \n",
            "\u001b[?25hRequirement already satisfied: setuptools>=41.0.0 in /usr/local/lib/python3.7/site-packages (from tensorboard~=2.5->tensorflow==2.5.0) (50.3.1.post20201107)\n",
            "Requirement already satisfied: requests<3,>=2.21.0 in /usr/local/lib/python3.7/site-packages (from tensorboard~=2.5->tensorflow==2.5.0) (2.24.0)\n",
            "Collecting google-auth-oauthlib<0.5,>=0.4.1\n",
            "  Downloading google_auth_oauthlib-0.4.5-py2.py3-none-any.whl (18 kB)\n",
            "Collecting tensorboard-data-server<0.7.0,>=0.6.0\n",
            "  Downloading tensorboard_data_server-0.6.1-py3-none-manylinux2010_x86_64.whl (4.9 MB)\n",
            "\u001b[K     |████████████████████████████████| 4.9 MB 47.0 MB/s \n",
            "\u001b[?25hCollecting markdown>=2.6.8\n",
            "  Downloading Markdown-3.3.4-py3-none-any.whl (97 kB)\n",
            "\u001b[K     |████████████████████████████████| 97 kB 6.4 MB/s \n",
            "\u001b[?25hCollecting cached-property; python_version < \"3.8\"\n",
            "  Downloading cached_property-1.5.2-py2.py3-none-any.whl (7.6 kB)\n",
            "Collecting cachetools<5.0,>=2.0.0\n",
            "  Downloading cachetools-4.2.2-py3-none-any.whl (11 kB)\n",
            "Collecting pyasn1-modules>=0.2.1\n",
            "  Downloading pyasn1_modules-0.2.8-py2.py3-none-any.whl (155 kB)\n",
            "\u001b[K     |████████████████████████████████| 155 kB 66.9 MB/s \n",
            "\u001b[?25hCollecting rsa<5,>=3.1.4; python_version >= \"3.6\"\n",
            "  Downloading rsa-4.7.2-py3-none-any.whl (34 kB)\n",
            "Requirement already satisfied: chardet<4,>=3.0.2 in /usr/local/lib/python3.7/site-packages (from requests<3,>=2.21.0->tensorboard~=2.5->tensorflow==2.5.0) (3.0.4)\n",
            "Requirement already satisfied: idna<3,>=2.5 in /usr/local/lib/python3.7/site-packages (from requests<3,>=2.21.0->tensorboard~=2.5->tensorflow==2.5.0) (2.10)\n",
            "Requirement already satisfied: urllib3!=1.25.0,!=1.25.1,<1.26,>=1.21.1 in /usr/local/lib/python3.7/site-packages (from requests<3,>=2.21.0->tensorboard~=2.5->tensorflow==2.5.0) (1.25.11)\n",
            "Requirement already satisfied: certifi>=2017.4.17 in /usr/local/lib/python3.7/site-packages (from requests<3,>=2.21.0->tensorboard~=2.5->tensorflow==2.5.0) (2020.12.5)\n",
            "Collecting requests-oauthlib>=0.7.0\n",
            "  Downloading requests_oauthlib-1.3.0-py2.py3-none-any.whl (23 kB)\n",
            "Requirement already satisfied: importlib-metadata; python_version < \"3.8\" in /usr/local/lib/python3.7/site-packages (from markdown>=2.6.8->tensorboard~=2.5->tensorflow==2.5.0) (3.10.1)\n",
            "Collecting pyasn1<0.5.0,>=0.4.6\n",
            "  Downloading pyasn1-0.4.8-py2.py3-none-any.whl (77 kB)\n",
            "\u001b[K     |████████████████████████████████| 77 kB 5.3 MB/s \n",
            "\u001b[?25hCollecting oauthlib>=3.0.0\n",
            "  Downloading oauthlib-3.1.1-py2.py3-none-any.whl (146 kB)\n",
            "\u001b[K     |████████████████████████████████| 146 kB 74.4 MB/s \n",
            "\u001b[?25hRequirement already satisfied: zipp>=0.5 in /usr/local/lib/python3.7/site-packages (from importlib-metadata; python_version < \"3.8\"->markdown>=2.6.8->tensorboard~=2.5->tensorflow==2.5.0) (3.5.0)\n",
            "Building wheels for collected packages: wrapt, termcolor\n",
            "  Building wheel for wrapt (setup.py) ... \u001b[?25l\u001b[?25hdone\n",
            "  Created wheel for wrapt: filename=wrapt-1.12.1-cp37-cp37m-linux_x86_64.whl size=70914 sha256=ca5f79b04ee818de60c7a0c1c39b130e064722c2fb54d3d3f75f6824ee3cad32\n",
            "  Stored in directory: /root/.cache/pip/wheels/62/76/4c/aa25851149f3f6d9785f6c869387ad82b3fd37582fa8147ac6\n",
            "  Building wheel for termcolor (setup.py) ... \u001b[?25l\u001b[?25hdone\n",
            "  Created wheel for termcolor: filename=termcolor-1.1.0-py3-none-any.whl size=4830 sha256=9dceb0d3312c5684f6c1ec75bc677e7e755d139552390f5bec35a438ef166fa0\n",
            "  Stored in directory: /root/.cache/pip/wheels/3f/e3/ec/8a8336ff196023622fbcb36de0c5a5c218cbb24111d1d4c7f2\n",
            "Successfully built wrapt termcolor\n",
            "Installing collected packages: grpcio, absl-py, google-pasta, wrapt, flatbuffers, gast, werkzeug, tensorboard-plugin-wit, cachetools, pyasn1, pyasn1-modules, rsa, google-auth, oauthlib, requests-oauthlib, google-auth-oauthlib, protobuf, tensorboard-data-server, markdown, tensorboard, keras-nightly, tensorflow-estimator, astunparse, keras-preprocessing, typing-extensions, termcolor, cached-property, h5py, opt-einsum, tensorflow\n",
            "  Attempting uninstall: typing-extensions\n",
            "    Found existing installation: typing-extensions 3.10.0.0\n",
            "    Uninstalling typing-extensions-3.10.0.0:\n",
            "      Successfully uninstalled typing-extensions-3.10.0.0\n",
            "Successfully installed absl-py-0.13.0 astunparse-1.6.3 cached-property-1.5.2 cachetools-4.2.2 flatbuffers-1.12 gast-0.4.0 google-auth-1.34.0 google-auth-oauthlib-0.4.5 google-pasta-0.2.0 grpcio-1.34.1 h5py-3.1.0 keras-nightly-2.5.0.dev2021032900 keras-preprocessing-1.1.2 markdown-3.3.4 oauthlib-3.1.1 opt-einsum-3.3.0 protobuf-3.17.3 pyasn1-0.4.8 pyasn1-modules-0.2.8 requests-oauthlib-1.3.0 rsa-4.7.2 tensorboard-2.5.0 tensorboard-data-server-0.6.1 tensorboard-plugin-wit-1.8.0 tensorflow-2.5.0 tensorflow-estimator-2.5.0 termcolor-1.1.0 typing-extensions-3.7.4.3 werkzeug-2.0.1 wrapt-1.12.1\n"
          ],
          "name": "stdout"
        },
        {
          "output_type": "display_data",
          "data": {
            "application/vnd.colab-display-data+json": {
              "pip_warning": {
                "packages": [
                  "google"
                ]
              }
            }
          },
          "metadata": {
            "tags": []
          }
        }
      ]
    },
    {
      "cell_type": "markdown",
      "metadata": {
        "id": "a3gXFLC1TZHg"
      },
      "source": [
        "We are now ready to make use of GIBS Downloader and all of its features!"
      ]
    },
    {
      "cell_type": "markdown",
      "metadata": {
        "id": "dtFwzUc77e-a"
      },
      "source": [
        "# Using GIBS Downloader\n",
        "\n",
        "Let's break down the example in the README"
      ]
    },
    {
      "cell_type": "code",
      "metadata": {
        "colab": {
          "base_uri": "https://localhost:8080/"
        },
        "id": "COkeX-skuo86",
        "outputId": "325f063e-4525-4a73-a17e-dfe170054ffd"
      },
      "source": [
        "# Simply download images of this region covering this range of dates (2020-09-15 to 2020-09-30)\n",
        "!gdl 2020-09-15 2020-09-30 \"37.003277, -124.328539\" \"40.353784, -120.253964\""
      ],
      "execution_count": null,
      "outputs": [
        {
          "output_type": "stream",
          "text": [
            "Input file size is 163840, 81920\n",
            "0...10...20...30...40...50...60...70...80...90...100 - done.\n",
            "Input file size is 163840, 81920\n",
            "0...10...20...30...40...50...60...70...80...90...100 - done.\n",
            "Input file size is 163840, 81920\n",
            "0...10...20...30...40...50...60...70...80...90...100 - done.\n",
            "Input file size is 163840, 81920\n",
            "0...10...20...30...40...50...60...70...80...90...100 - done.\n",
            "Input file size is 163840, 81920\n",
            "0...10...20...30...40...50...60...70...80...90...100 - done.\n",
            "Input file size is 163840, 81920\n",
            "0...10...20...30...40...50...60...70...80...90...100 - done.\n",
            "Input file size is 163840, 81920\n",
            "0...10...20...30...40...50...60...70...80...90...100 - done.\n",
            "Input file size is 163840, 81920\n",
            "0...10...20...30...40...50...60...70...80...90...100 - done.\n",
            "Input file size is 163840, 81920\n",
            "0...10...20...30...40...50...60...70...80...90...100 - done.\n",
            "Input file size is 163840, 81920\n",
            "0...10...20...30...40...50...60...70...80...90...100 - done.\n",
            "Input file size is 163840, 81920\n",
            "0...10...20...30...40...50...60...70...80...90...100 - done.\n",
            "Input file size is 163840, 81920\n",
            "0...10...20...30...40...50...60...70...80...90...100 - done.\n",
            "Input file size is 163840, 81920\n",
            "0...10...20...30...40...50...60...70...80...90...100 - done.\n",
            "Input file size is 163840, 81920\n",
            "0...10...20...30...40...50...60...70...80...90...100 - done.\n",
            "Input file size is 163840, 81920\n",
            "0...10...20...30...40...50...60...70...80...90...100 - done.\n",
            "Input file size is 163840, 81920\n",
            "0...10...20...30...40...50...60...70...80...90...100 - done.\n"
          ],
          "name": "stdout"
        }
      ]
    },
    {
      "cell_type": "code",
      "metadata": {
        "colab": {
          "base_uri": "https://localhost:8080/"
        },
        "id": "A35UOpnoyw4f",
        "outputId": "5aa1404c-2e90-417d-bd0f-cbe1a0d50b72"
      },
      "source": [
        "# Check that the images have been downloaded\n",
        "%ls"
      ],
      "execution_count": 1,
      "outputs": [
        {
          "output_type": "stream",
          "text": [
            "\u001b[0m\u001b[01;34msample_data\u001b[0m/\n"
          ],
          "name": "stdout"
        }
      ]
    },
    {
      "cell_type": "markdown",
      "metadata": {
        "id": "er7j1NtpUlEA"
      },
      "source": [
        "The images have been downloaded. What else can we do with them?"
      ]
    },
    {
      "cell_type": "markdown",
      "metadata": {
        "id": "z62bXz7NV4oi"
      },
      "source": [
        "#### Tiling"
      ]
    },
    {
      "cell_type": "code",
      "metadata": {
        "colab": {
          "base_uri": "https://localhost:8080/"
        },
        "id": "tdxTFZ6lUtix",
        "outputId": "00678e70-b97d-4eed-c03f-8889cfc83b11"
      },
      "source": [
        "# Break the downloaded images into 256x256 tiles WITH multiprocessing.\n",
        "# Note that the download command looks almost the same as the previous, except for the new flags.\n",
        "# The downloader will first check to see if that region and range of dates has been downloaded already before it downloads the same images twice.\n",
        "# When we run this cell after the prior, we will skip directly to tiling the downloaded images.\n",
        "!gdl 2020-09-15 2020-09-30 \"37.003277, -124.328539\" \"40.353784, -120.253964\" --tile=true --tile-width=256 --tile-height=256 --mp=true"
      ],
      "execution_count": null,
      "outputs": [
        {
          "output_type": "stream",
          "text": [
            "Tiling day 1 of 16\n",
            "Gathering tiling information...done!\n",
            "Generating 121 tiles using 2 processes...\n",
            "100% 121/121 [00:00<00:00, 339.70it/s]\n",
            "done!\n",
            "Tiling day 2 of 16\n",
            "Gathering tiling information...done!\n",
            "Generating 121 tiles using 2 processes...\n",
            "100% 121/121 [00:00<00:00, 320.79it/s]\n",
            "done!\n",
            "Tiling day 3 of 16\n",
            "Gathering tiling information...done!\n",
            "Generating 121 tiles using 2 processes...\n",
            "100% 121/121 [00:00<00:00, 282.56it/s]\n",
            "done!\n",
            "Tiling day 4 of 16\n",
            "Gathering tiling information...done!\n",
            "Generating 121 tiles using 2 processes...\n",
            "100% 121/121 [00:00<00:00, 285.67it/s]\n",
            "done!\n",
            "Tiling day 5 of 16\n",
            "Gathering tiling information...done!\n",
            "Generating 121 tiles using 2 processes...\n",
            "100% 121/121 [00:00<00:00, 340.34it/s]\n",
            "done!\n",
            "Tiling day 6 of 16\n",
            "Gathering tiling information...done!\n",
            "Generating 121 tiles using 2 processes...\n",
            "100% 121/121 [00:00<00:00, 304.72it/s]\n",
            "done!\n",
            "Tiling day 7 of 16\n",
            "Gathering tiling information...done!\n",
            "Generating 121 tiles using 2 processes...\n",
            "100% 121/121 [00:00<00:00, 338.34it/s]\n",
            "done!\n",
            "Tiling day 8 of 16\n",
            "Gathering tiling information...done!\n",
            "Generating 121 tiles using 2 processes...\n",
            "100% 121/121 [00:00<00:00, 333.68it/s]\n",
            "done!\n",
            "Tiling day 9 of 16\n",
            "Gathering tiling information...done!\n",
            "Generating 121 tiles using 2 processes...\n",
            "100% 121/121 [00:00<00:00, 293.89it/s]\n",
            "done!\n",
            "Tiling day 10 of 16\n",
            "Gathering tiling information...done!\n",
            "Generating 121 tiles using 2 processes...\n",
            "100% 121/121 [00:00<00:00, 339.81it/s]\n",
            "done!\n",
            "Tiling day 11 of 16\n",
            "Gathering tiling information...done!\n",
            "Generating 121 tiles using 2 processes...\n",
            "100% 121/121 [00:00<00:00, 338.78it/s]\n",
            "done!\n",
            "Tiling day 12 of 16\n",
            "Gathering tiling information...done!\n",
            "Generating 121 tiles using 2 processes...\n",
            "100% 121/121 [00:00<00:00, 343.77it/s]\n",
            "done!\n",
            "Tiling day 13 of 16\n",
            "Gathering tiling information...done!\n",
            "Generating 121 tiles using 2 processes...\n",
            "100% 121/121 [00:00<00:00, 335.24it/s]\n",
            "done!\n",
            "Tiling day 14 of 16\n",
            "Gathering tiling information...done!\n",
            "Generating 121 tiles using 2 processes...\n",
            "100% 121/121 [00:00<00:00, 333.24it/s]\n",
            "done!\n",
            "Tiling day 15 of 16\n",
            "Gathering tiling information...done!\n",
            "Generating 121 tiles using 2 processes...\n",
            "100% 121/121 [00:00<00:00, 301.44it/s]\n",
            "done!\n",
            "Tiling day 16 of 16\n",
            "Gathering tiling information...done!\n",
            "Generating 121 tiles using 2 processes...\n",
            "100% 121/121 [00:00<00:00, 344.60it/s]\n",
            "done!\n",
            "The specified tiles have been generated\n"
          ],
          "name": "stdout"
        }
      ]
    },
    {
      "cell_type": "markdown",
      "metadata": {
        "id": "vJciBFNsV7OM"
      },
      "source": [
        "#### TFRecord writing\n",
        "\n",
        "TFRecords is a binary file format can be used in efficient machine learning pipelines. We generate them with one flag which enables high performance machine training. (Autoencoder Colab notebook which utilizes TFRecords will be soon released) "
      ]
    },
    {
      "cell_type": "code",
      "metadata": {
        "id": "uEnqGB5eWBKh",
        "colab": {
          "base_uri": "https://localhost:8080/"
        },
        "outputId": "bdc6a66f-3cd1-4bb4-efef-47c998d54e6a"
      },
      "source": [
        "# In order to generate TFRecords, we specify which tile sizes we would like to turn into TFRecords\n",
        "# Like with downloading the original images, if the specified tile size already exists, we use the already generated tiles\n",
        "# If the tiles do not exist, we create them\n",
        "!gdl 2020-09-15 2020-09-30 \"37.003277, -124.328539\" \"40.353784, -120.253964\" --tile=true --tile-width=256 --tile-height=256 --mp=true --gen-tfrecords=true"
      ],
      "execution_count": 15,
      "outputs": [
        {
          "output_type": "stream",
          "text": [
            "Tiles for day 1 have already been generated. Moving on to the next day\n",
            "Tiles for day 2 have already been generated. Moving on to the next day\n",
            "Tiles for day 3 have already been generated. Moving on to the next day\n",
            "Tiles for day 4 have already been generated. Moving on to the next day\n",
            "Tiles for day 5 have already been generated. Moving on to the next day\n",
            "Tiles for day 6 have already been generated. Moving on to the next day\n",
            "Tiles for day 7 have already been generated. Moving on to the next day\n",
            "Tiles for day 8 have already been generated. Moving on to the next day\n",
            "Tiles for day 9 have already been generated. Moving on to the next day\n",
            "Tiles for day 10 have already been generated. Moving on to the next day\n",
            "Tiles for day 11 have already been generated. Moving on to the next day\n",
            "Tiles for day 12 have already been generated. Moving on to the next day\n",
            "Tiles for day 13 have already been generated. Moving on to the next day\n",
            "Tiles for day 14 have already been generated. Moving on to the next day\n",
            "Tiles for day 15 have already been generated. Moving on to the next day\n",
            "Tiles for day 16 have already been generated. Moving on to the next day\n",
            "The specified tiles have been generated\n",
            "2021-08-05 23:03:28.266728: I tensorflow/stream_executor/platform/default/dso_loader.cc:53] Successfully opened dynamic library libcudart.so.11.0\n",
            "2021-08-05 23:03:30.325463: I tensorflow/stream_executor/platform/default/dso_loader.cc:53] Successfully opened dynamic library libcuda.so.1\n",
            "2021-08-05 23:03:30.341535: E tensorflow/stream_executor/cuda/cuda_driver.cc:328] failed call to cuInit: CUDA_ERROR_NO_DEVICE: no CUDA-capable device is detected\n",
            "2021-08-05 23:03:30.341632: I tensorflow/stream_executor/cuda/cuda_diagnostics.cc:156] kernel driver does not appear to be running on this host (e47e128cd64d): /proc/driver/nvidia/version does not exist\n",
            "2021-08-05 23:03:30.342545: I tensorflow/core/platform/cpu_feature_guard.cc:142] This TensorFlow binary is optimized with oneAPI Deep Neural Network Library (oneDNN) to use the following CPU instructions in performance-critical operations:  AVX2 FMA\n",
            "To enable them in other operations, rebuild TensorFlow with the appropriate compiler flags.\n"
          ],
          "name": "stdout"
        }
      ]
    },
    {
      "cell_type": "markdown",
      "metadata": {
        "id": "KyZITjhtYQ8i"
      },
      "source": [
        "#### Animation\n",
        "\n",
        "With one additional flag, we can bring out images to life by generating a timelapse-style video."
      ]
    },
    {
      "cell_type": "code",
      "metadata": {
        "id": "hz9i6p9eYRP9",
        "colab": {
          "base_uri": "https://localhost:8080/"
        },
        "outputId": "3b13f92c-3592-4e17-cdaf-752e47bf02b2"
      },
      "source": [
        "!gdl 2020-09-15 2020-09-30 \"37.003277, -124.328539\" \"40.353784, -120.253964\" --animate=true"
      ],
      "execution_count": 16,
      "outputs": [
        {
          "output_type": "stream",
          "text": [
            "Generating video...\n",
            "Video generation has finished!\n"
          ],
          "name": "stdout"
        }
      ]
    },
    {
      "cell_type": "markdown",
      "metadata": {
        "id": "fjuXbdiMzTwd"
      },
      "source": [
        "### Product Search\n",
        "\n",
        "How about other kinds of imagery products? We can search for certain products by keywords with the same command. \n",
        "\n",
        "\n",
        "Let's say we would like to download imagery of population densities in North America. We can search for a matching product as follows:"
      ]
    },
    {
      "cell_type": "code",
      "metadata": {
        "colab": {
          "base_uri": "https://localhost:8080/"
        },
        "id": "Tilv34STzwtw",
        "outputId": "4658e5f1-722e-47af-ba68-bb2af9f4832d"
      },
      "source": [
        "!gdl 2020-09-15 2020-09-15 \"33.33220194089801, -116.2071864542481\" \"47.13878705347208, -66.28531296463223\" --name=\"population density\""
      ],
      "execution_count": 2,
      "outputs": [
        {
          "output_type": "stream",
          "text": [
            "/bin/bash: gdl: command not found\n"
          ],
          "name": "stdout"
        }
      ]
    },
    {
      "cell_type": "markdown",
      "metadata": {
        "id": "P4Vuk2wXx66n"
      },
      "source": [
        "Congratulations, you are now ready to begin acquiring NASA imagery for Earth science needs with just one line!"
      ]
    }
  ]
}
